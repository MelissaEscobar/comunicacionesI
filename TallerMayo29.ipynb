{
 "cells": [
  {
   "cell_type": "markdown",
   "metadata": {},
   "source": [
    "# La Transformación Rápida de Fourier"
   ]
  },
  {
   "cell_type": "markdown",
   "metadata": {},
   "source": [
    "La transformada de Fourier toma una señal del tiempo en el dominio de frecuencia. Una aplicación de la transformada de Fourier es que podemos recuperar las amplitudes y frecuencias de una señal muestreada.\n",
    "\n",
    "Usaremos el paquete `numpy.fft`. El código subyacente para estas funciones es una versión modificada y traducida por f2c de las rutinas FFTPACK. FFTPACK [1] es un paquete de subprogramas de Fortran para la transformación rápida de Fourier de secuencias periódicas y otras secuencias simétricas. Incluye transformaciones complejas, reales, seno, coseno y cuarto de onda.\n",
    "\n",
    "Por ejemplo, considere la señal $2 · \\cos(4 · 2\\pi t) + 5 · \\sin (10 · 2\\pi t)$ compuesta de un coseno con amplitud 2, frecuencia 4 y un seno con amplitud 5 y frecuencia 10. Usando `rfft` del paquete `numpy.fft`, el siguiente script calcula la transformada discreta de Fourier en la matriz real de muestras mediante el eficiente algoritmo de Transformación rápida de Fourier. Recuperamos las amplitudes y las frecuencias correspondientes de los componentes de nuestra señal. Con matplotlib graficamos el espectro."
   ]
  },
  {
   "cell_type": "code",
   "execution_count": null,
   "metadata": {},
   "outputs": [],
   "source": [
    "import numpy as np\n",
    "\n",
    "f = lambda t: 2*np.cos(4*2*np.pi*t) + 5*np.sin(10*2*np.pi*t) \n",
    "n = 256\n",
    "x = np.arange(0.0,1.0,1.0/n)\n",
    "s = f(x)\n",
    "F = np.fft.rfft(s)\n",
    "m = n / 2\n",
    "p = lambda z: (abs(np.real(z)) / m, abs(np.imag(z)) / m)\n",
    "t = p(F)\n",
    "tol = 1.0e-8\n",
    "\n",
    "for i in range(0,len(t[0])):\n",
    "    if t[0][i] > tol:\n",
    "        print(str(t[0][i]) + '*cos(' + str(i) + '*2*pi*t)')\n",
    "    if t[1][i] > tol:\n",
    "        print(str(t[1][i]) + '*sin(' + str(i) + '*2*pi*t)')\n",
    "\n",
    "import matplotlib.pyplot as plt \n",
    "plt.plot(abs(F)/m)\n",
    "plt.show()"
   ]
  },
  {
   "cell_type": "markdown",
   "metadata": {},
   "source": [
    "y aparece una ventana que muestra el espectro."
   ]
  },
  {
   "cell_type": "markdown",
   "metadata": {},
   "source": [
    "### 1. Medir el tiempo de CPU\n",
    "\n",
    "El costo del algoritmo Fast Fourier Transform en un conjunto de datos de dimensión $n$ es proporcional a $n · log2(n)$. El propósito de esta asignación es determinar experimentalmente si el tiempo de ejecución de la implementación del algoritmo FFT en el paquete `numpy.fft` es de hecho $O(n · log2(n))$.\n",
    "\n",
    "Para medir el tiempo transcurrido de la CPU en los programas de Python, podemos usar el módulo de tiempo de la siguiente manera:"
   ]
  },
  {
   "cell_type": "code",
   "execution_count": null,
   "metadata": {},
   "outputs": [],
   "source": [
    "import time\n",
    "\n",
    "start_time = time.clock()\n",
    "\n",
    "# Coloque aqui su codigo\n",
    "\n",
    "stop_time = time.clock()\n",
    "cpu_time = stop_time - start_time \n",
    "print('cpu time :', cpu_time, 'seconds')"
   ]
  },
  {
   "cell_type": "markdown",
   "metadata": {},
   "source": [
    "Escriba un script de Python para ejecutar el algoritmo FFT en datos aleatorios de tamaño creciente $n$ (duplicando el valor de $n$ cada vez), teniendo en cuenta el tamaño de la memoria de acceso aleatorio en su computadora. Eventualmente, es posible que deba ejecutar la misma llamada varias veces en un bucle para obtener tiempos que sean lo suficientemente grandes como para darse cuenta. Informe los tiempos de ejecución observados en una tabla. ¿Ves la fórmula $n · log2(n)$ en los tiempos de ejecución observados?"
   ]
  },
  {
   "cell_type": "markdown",
   "metadata": {},
   "source": [
    "### 2. Eliminación de Ruido de Señales\n",
    "\n",
    "Una aplicación de la FFT es eliminar el ruido de baja amplitud de las señales. En esta tarea, escribirá un script de Python para simular la eliminación de ruido con la FFT. Los pasos en el script son los siguientes:\n",
    "\n",
    "1. tomar muestras de una señal exacta;\n",
    "2. a la señal muestreada, agregue números pequeños;\n",
    "3. aplique la transformada de Fourier y elimine aquellos componentes que tienen amplitudes bajas; \n",
    "4. aplique la transformada inversa de Fourier después de eliminar componentes de baja amplitud;\n",
    "5. compare el resultado con la señal exacta original.\n",
    "\n",
    "Puedes probar su script en cualquier dato aleatorio. Para un experimento más realista, puede usar el módulo de sonido de `scitools` y comparar la señal original, la ruidosa y la reconstruida escuchando."
   ]
  },
  {
   "cell_type": "markdown",
   "metadata": {},
   "source": [
    "### 3. convolución rápida\n",
    "\n",
    "La transformada de Fourier convierte una convolución en un producto de componente. Interpretando las matrices como los vectores de coeficientes de dos polinomios (la entrada i-ésima es el coeficiente de xi), la convolución de los vectores de coeficientes da el vector de coeficientes del producto de los dos polinomios. Usando el FFT rápido, la operación $O(n^2)$ se convierte en $O(n · log2 (n))$. El siguiente script ilustra la convolución de dos matrices rellenadas con ceros suficientes:"
   ]
  },
  {
   "cell_type": "code",
   "execution_count": null,
   "metadata": {},
   "outputs": [],
   "source": [
    "import numpy as np\n",
    "from numpy.fft import rfft, irfft \n",
    "\n",
    "a = np.array([6,5,4,0,0,0,0,0]) \n",
    "b = np.array([9,8,7,0,0,0,0,0]) \n",
    "print(np.convolve(a,b))\n",
    "\n",
    "A = rfft(a)\n",
    "B = rfft(b)\n",
    "C = A * B\n",
    "print(irfft(C))"
   ]
  },
  {
   "cell_type": "markdown",
   "metadata": {},
   "source": [
    "Escriba un script de Python para demostrar el beneficio de realizar una convolución usando la FFT, usando tiempos en arreglos suficientemente grandes. Tenga en cuenta que el paquete de señal de scipy contiene la función `fftconvolve`."
   ]
  },
  {
   "cell_type": "markdown",
   "metadata": {},
   "source": [
    "### La fecha límite es el viernes 29 de mayo a las 4 pm.\n",
    "\n",
    "Por favor, suba a classroom todo lo que usted realizó en esta tarea, incluyendo las investigaciones que haya realizado.\n",
    "\n",
    "Si tiene preguntas o dificultades con los puntos, no dude en consultar para obtener ayuda."
   ]
  },
  {
   "cell_type": "markdown",
   "metadata": {},
   "source": [
    "## Referencia\n",
    "\n",
    "[1] P.N. Swarztrauber. Vectorizing the FFTs. In Parallel Computations, edited by G. Rodrigue, pages 51–83, Academic Press, 1982."
   ]
  },
  {
   "cell_type": "code",
   "execution_count": null,
   "metadata": {},
   "outputs": [],
   "source": []
  }
 ],
 "metadata": {
  "kernelspec": {
   "display_name": "Python 3",
   "language": "python",
   "name": "python3"
  },
  "language_info": {
   "codemirror_mode": {
    "name": "ipython",
    "version": 3
   },
   "file_extension": ".py",
   "mimetype": "text/x-python",
   "name": "python",
   "nbconvert_exporter": "python",
   "pygments_lexer": "ipython3",
   "version": "3.7.3"
  }
 },
 "nbformat": 4,
 "nbformat_minor": 4
}
