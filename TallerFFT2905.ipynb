{
 "cells": [
  {
   "cell_type": "markdown",
   "metadata": {
    "colab_type": "text",
    "id": "7V6LGAC_bd34"
   },
   "source": [
    "# La Transformación Rápida de Fourier"
   ]
  },
  {
   "cell_type": "markdown",
   "metadata": {
    "colab_type": "text",
    "id": "FYJuIHs5bd3-"
   },
   "source": [
    "La transformada de Fourier toma una señal del tiempo en el dominio de frecuencia. Una aplicación de la transformada de Fourier es que podemos recuperar las amplitudes y frecuencias de una señal muestreada.\n",
    "\n",
    "Usaremos el paquete `numpy.fft`. El código subyacente para estas funciones es una versión modificada y traducida por f2c de las rutinas FFTPACK. FFTPACK [1] es un paquete de subprogramas de Fortran para la transformación rápida de Fourier de secuencias periódicas y otras secuencias simétricas. Incluye transformaciones complejas, reales, seno, coseno y cuarto de onda.\n",
    "\n",
    "Por ejemplo, considere la señal $2 · \\cos(4 · 2\\pi t) + 5 · \\sin (10 · 2\\pi t)$ compuesta de un coseno con amplitud 2, frecuencia 4 y un seno con amplitud 5 y frecuencia 10. Usando `rfft` del paquete `numpy.fft`, el siguiente script calcula la transformada discreta de Fourier en la matriz real de muestras mediante el eficiente algoritmo de Transformación rápida de Fourier. Recuperamos las amplitudes y las frecuencias correspondientes de los componentes de nuestra señal. Con matplotlib graficamos el espectro."
   ]
  },
  {
   "cell_type": "code",
   "execution_count": 16,
   "metadata": {
    "colab": {},
    "colab_type": "code",
    "id": "JDXa95tWbd4A"
   },
   "outputs": [
    {
     "name": "stdout",
     "output_type": "stream",
     "text": [
      "2.0*cos(4*2*pi*t)\n",
      "5.0*sin(10*2*pi*t)\n"
     ]
    },
    {
     "data": {
      "image/png": "[encoded data removed]",
      "text/plain": [
       "<Figure size 432x288 with 1 Axes>"
      ]
     },
     "metadata": {
      "needs_background": "light"
     },
     "output_type": "display_data"
    }
   ],
   "source": [
    "import numpy as np\n",
    "import matplotlib.pyplot as plt \n",
    "\n",
    "f = lambda t: 2*np.cos(4*2*np.pi*t) + 5*np.sin(10*2*np.pi*t) \n",
    "n = 256\n",
    "x = np.arange(0.0,1.0,1.0/n)\n",
    "s = f(x)\n",
    "F = np.fft.rfft(s)\n",
    "m = n / 2\n",
    "p = lambda z: (abs(np.real(z)) / m, abs(np.imag(z)) / m)\n",
    "t = p(F)\n",
    "tol = 1.0e-8\n",
    "\n",
    "for i in range(0,len(t[0])):\n",
    "    if t[0][i] > tol:\n",
    "        print(str(t[0][i]) + '*cos(' + str(i) + '*2*pi*t)')\n",
    "    if t[1][i] > tol:\n",
    "        print(str(t[1][i]) + '*sin(' + str(i) + '*2*pi*t)')\n",
    "\n",
    "\n",
    "plt.plot(abs(F)/m)\n",
    "plt.show()\n",
    "\n"
   ]
  },
  {
   "cell_type": "markdown",
   "metadata": {
    "colab_type": "text",
    "id": "H9OCKzFNbd4R"
   },
   "source": [
    "y aparece una ventana que muestra el espectro."
   ]
  },
  {
   "cell_type": "markdown",
   "metadata": {
    "colab_type": "text",
    "id": "vamePptTbd4T"
   },
   "source": [
    "### 1. Medir el tiempo de CPU\n",
    "\n",
    "El costo del algoritmo Fast Fourier Transform en un conjunto de datos de dimensión $n$ es proporcional a $n · log2(n)$. El propósito de esta asignación es determinar experimentalmente si el tiempo de ejecución de la implementación del algoritmo FFT en el paquete `numpy.fft` es de hecho $O(n · log2(n))$.\n",
    "\n",
    "Para medir el tiempo transcurrido de la CPU en los programas de Python, podemos usar el módulo de tiempo de la siguiente manera:"
   ]
  },
  {
   "cell_type": "code",
   "execution_count": 17,
   "metadata": {
    "colab": {},
    "colab_type": "code",
    "id": "ZQQPSb86bd4U"
   },
   "outputs": [
    {
     "name": "stdout",
     "output_type": "stream",
     "text": [
      "cpu time : 0.00013500000000021828 seconds\n"
     ]
    },
    {
     "name": "stderr",
     "output_type": "stream",
     "text": [
      "/home/melii/.local/lib/python3.7/site-packages/ipykernel_launcher.py:3: DeprecationWarning: time.clock has been deprecated in Python 3.3 and will be removed from Python 3.8: use time.perf_counter or time.process_time instead\n",
      "  This is separate from the ipykernel package so we can avoid doing imports until\n",
      "/home/melii/.local/lib/python3.7/site-packages/ipykernel_launcher.py:7: DeprecationWarning: time.clock has been deprecated in Python 3.3 and will be removed from Python 3.8: use time.perf_counter or time.process_time instead\n",
      "  import sys\n"
     ]
    }
   ],
   "source": [
    "import time\n",
    "\n",
    "start_time = time.clock()\n",
    "\n",
    "# Coloque aqui su codigo\n",
    "\n",
    "stop_time = time.clock()\n",
    "cpu_time = stop_time - start_time \n",
    "print('cpu time :', cpu_time, 'seconds')"
   ]
  },
  {
   "cell_type": "markdown",
   "metadata": {
    "colab_type": "text",
    "id": "_uoSl3wsbd4h"
   },
   "source": [
    "Escriba un script de Python para ejecutar el algoritmo FFT en datos aleatorios de tamaño creciente $n$ (duplicando el valor de $n$ cada vez), teniendo en cuenta el tamaño de la memoria de acceso aleatorio en su computadora. Eventualmente, es posible que deba ejecutar la misma llamada varias veces en un bucle para obtener tiempos que sean lo suficientemente grandes como para darse cuenta. Informe los tiempos de ejecución observados en una tabla. ¿Ves la fórmula $n · log2(n)$ en los tiempos de ejecución observados?"
   ]
  },
  {
   "cell_type": "code",
   "execution_count": 18,
   "metadata": {},
   "outputs": [
    {
     "name": "stdout",
     "output_type": "stream",
     "text": [
      "7.94 µs ± 626 ns per loop (mean ± std. dev. of 7 runs, 100000 loops each)\n"
     ]
    }
   ],
   "source": [
    "%timeit F = np.fft.rfft(s)"
   ]
  },
  {
   "cell_type": "code",
   "execution_count": 19,
   "metadata": {},
   "outputs": [
    {
     "name": "stderr",
     "output_type": "stream",
     "text": [
      "/home/melii/.local/lib/python3.7/site-packages/ipykernel_launcher.py:6: DeprecationWarning: time.clock has been deprecated in Python 3.3 and will be removed from Python 3.8: use time.perf_counter or time.process_time instead\n",
      "  \n",
      "/home/melii/.local/lib/python3.7/site-packages/ipykernel_launcher.py:8: DeprecationWarning: time.clock has been deprecated in Python 3.3 and will be removed from Python 3.8: use time.perf_counter or time.process_time instead\n",
      "  \n"
     ]
    }
   ],
   "source": [
    "arrayTime =[]\n",
    "for _ in range (1,300):\n",
    "    n = 256 * 2\n",
    "    x = np.arange(0.0,1.0,1.0/n)\n",
    "    s = f(x)\n",
    "    start_time = time.clock()\n",
    "    F = np.fft.rfft(s)\n",
    "    stop_time = time.clock()\n",
    "    cpu_time = stop_time - start_time \n",
    "    arrayTime.append(cpu_time)\n",
    "    "
   ]
  },
  {
   "cell_type": "code",
   "execution_count": 20,
   "metadata": {},
   "outputs": [
    {
     "data": {
      "text/plain": [
       "[0.00035400000000151977,\n",
       " 5.099999999913507e-05,\n",
       " 1.9999999999242846e-05,\n",
       " 1.699999999971169e-05,\n",
       " 1.5000000001208491e-05,\n",
       " 1.5000000001208491e-05,\n",
       " 1.5000000001208491e-05,\n",
       " 1.5000000001208491e-05,\n",
       " 1.5000000001208491e-05,\n",
       " 2.999999999886427e-05,\n",
       " 1.8000000000739647e-05,\n",
       " 2.200000000129876e-05,\n",
       " 2.800000000036107e-05,\n",
       " 1.899999999821489e-05,\n",
       " 1.5999999998683734e-05,\n",
       " 1.5999999998683734e-05,\n",
       " 1.4000000000180535e-05,\n",
       " 1.4000000000180535e-05,\n",
       " 1.5000000001208491e-05,\n",
       " 1.5000000001208491e-05,\n",
       " 1.4999999997655777e-05,\n",
       " 1.5000000001208491e-05,\n",
       " 1.4000000000180535e-05,\n",
       " 1.5000000001208491e-05,\n",
       " 1.5000000001208491e-05,\n",
       " 1.5000000001208491e-05,\n",
       " 2.5000000000829914e-05,\n",
       " 1.9000000001767603e-05,\n",
       " 1.4999999997655777e-05,\n",
       " 1.4999999997655777e-05,\n",
       " 1.4000000000180535e-05,\n",
       " 1.3999999996627821e-05,\n",
       " 1.5000000001208491e-05,\n",
       " 1.4999999997655777e-05,\n",
       " 1.5000000001208491e-05,\n",
       " 1.3999999996627821e-05,\n",
       " 1.5000000001208491e-05,\n",
       " 1.4999999997655777e-05,\n",
       " 1.4000000000180535e-05,\n",
       " 1.4000000000180535e-05,\n",
       " 1.4000000000180535e-05,\n",
       " 1.4000000000180535e-05,\n",
       " 1.5000000001208491e-05,\n",
       " 1.4000000000180535e-05,\n",
       " 1.3999999996627821e-05,\n",
       " 1.5000000001208491e-05,\n",
       " 1.4000000000180535e-05,\n",
       " 1.5000000001208491e-05,\n",
       " 1.5000000001208491e-05,\n",
       " 1.5000000001208491e-05,\n",
       " 1.4000000000180535e-05,\n",
       " 1.4000000000180535e-05,\n",
       " 1.5000000001208491e-05,\n",
       " 1.5000000001208491e-05,\n",
       " 1.6000000002236447e-05,\n",
       " 1.5000000001208491e-05,\n",
       " 1.6000000002236447e-05,\n",
       " 1.4999999997655777e-05,\n",
       " 1.4999999997655777e-05,\n",
       " 1.5000000001208491e-05,\n",
       " 1.5000000001208491e-05,\n",
       " 1.5000000001208491e-05,\n",
       " 1.4000000000180535e-05,\n",
       " 1.4000000000180535e-05,\n",
       " 1.4000000000180535e-05,\n",
       " 1.4000000000180535e-05,\n",
       " 1.4000000000180535e-05,\n",
       " 1.4999999997655777e-05,\n",
       " 1.4000000000180535e-05,\n",
       " 1.4000000000180535e-05,\n",
       " 1.5000000001208491e-05,\n",
       " 1.4999999997655777e-05,\n",
       " 1.4000000000180535e-05,\n",
       " 1.4000000000180535e-05,\n",
       " 1.4000000000180535e-05,\n",
       " 1.5000000001208491e-05,\n",
       " 1.4000000000180535e-05,\n",
       " 1.4000000000180535e-05,\n",
       " 1.699999999971169e-05,\n",
       " 1.4000000000180535e-05,\n",
       " 1.5000000001208491e-05,\n",
       " 1.4999999997655777e-05,\n",
       " 1.5000000001208491e-05,\n",
       " 1.5000000001208491e-05,\n",
       " 1.4999999997655777e-05,\n",
       " 1.5000000001208491e-05,\n",
       " 1.4000000000180535e-05,\n",
       " 1.4000000000180535e-05,\n",
       " 1.5000000001208491e-05,\n",
       " 1.4999999997655777e-05,\n",
       " 1.5000000001208491e-05,\n",
       " 1.4000000000180535e-05,\n",
       " 1.4000000000180535e-05,\n",
       " 1.4000000000180535e-05,\n",
       " 1.4000000000180535e-05,\n",
       " 1.3999999996627821e-05,\n",
       " 1.4000000000180535e-05,\n",
       " 1.5999999998683734e-05,\n",
       " 1.5000000001208491e-05,\n",
       " 1.5000000001208491e-05,\n",
       " 1.4000000000180535e-05,\n",
       " 1.4000000000180535e-05,\n",
       " 1.4000000000180535e-05,\n",
       " 1.5000000001208491e-05,\n",
       " 1.4000000000180535e-05,\n",
       " 1.4000000000180535e-05,\n",
       " 1.4999999997655777e-05,\n",
       " 1.4000000000180535e-05,\n",
       " 1.4000000000180535e-05,\n",
       " 1.4000000000180535e-05,\n",
       " 1.4000000000180535e-05,\n",
       " 1.4000000000180535e-05,\n",
       " 1.4000000000180535e-05,\n",
       " 1.4000000000180535e-05,\n",
       " 1.4000000000180535e-05,\n",
       " 1.4999999997655777e-05,\n",
       " 1.699999999971169e-05,\n",
       " 2.3000000002326715e-05,\n",
       " 1.5000000001208491e-05,\n",
       " 1.5000000001208491e-05,\n",
       " 2.1000000000270802e-05,\n",
       " 2.3999999999801958e-05,\n",
       " 1.899999999821489e-05,\n",
       " 1.5000000001208491e-05,\n",
       " 1.4999999997655777e-05,\n",
       " 1.5000000001208491e-05,\n",
       " 1.5000000001208491e-05,\n",
       " 1.5000000001208491e-05,\n",
       " 1.3999999996627821e-05,\n",
       " 1.5000000001208491e-05,\n",
       " 1.4999999997655777e-05,\n",
       " 1.4999999997655777e-05,\n",
       " 1.5000000001208491e-05,\n",
       " 1.4000000000180535e-05,\n",
       " 1.5000000001208491e-05,\n",
       " 1.4000000000180535e-05,\n",
       " 1.4000000000180535e-05,\n",
       " 1.5000000001208491e-05,\n",
       " 1.4000000000180535e-05,\n",
       " 1.4000000000180535e-05,\n",
       " 1.5000000001208491e-05,\n",
       " 1.4000000000180535e-05,\n",
       " 1.5000000001208491e-05,\n",
       " 1.4000000000180535e-05,\n",
       " 2.9000000001389026e-05,\n",
       " 1.6000000002236447e-05,\n",
       " 1.4999999997655777e-05,\n",
       " 1.5000000001208491e-05,\n",
       " 1.5000000001208491e-05,\n",
       " 1.5000000001208491e-05,\n",
       " 1.5000000001208491e-05,\n",
       " 1.5999999998683734e-05,\n",
       " 1.5999999998683734e-05,\n",
       " 1.5000000001208491e-05,\n",
       " 1.5000000001208491e-05,\n",
       " 1.4000000000180535e-05,\n",
       " 1.5000000001208491e-05,\n",
       " 1.5999999998683734e-05,\n",
       " 1.5000000001208491e-05,\n",
       " 1.5000000001208491e-05,\n",
       " 1.4000000000180535e-05,\n",
       " 1.4000000000180535e-05,\n",
       " 1.5000000001208491e-05,\n",
       " 1.4000000000180535e-05,\n",
       " 1.4999999997655777e-05,\n",
       " 1.4999999997655777e-05,\n",
       " 1.5000000001208491e-05,\n",
       " 1.5000000001208491e-05,\n",
       " 1.4000000000180535e-05,\n",
       " 1.5000000001208491e-05,\n",
       " 1.5000000001208491e-05,\n",
       " 1.5000000001208491e-05,\n",
       " 1.4000000000180535e-05,\n",
       " 1.4999999997655777e-05,\n",
       " 1.5999999998683734e-05,\n",
       " 1.4999999997655777e-05,\n",
       " 1.4000000000180535e-05,\n",
       " 1.4999999997655777e-05,\n",
       " 1.4000000000180535e-05,\n",
       " 1.5000000001208491e-05,\n",
       " 1.5000000001208491e-05,\n",
       " 1.4000000000180535e-05,\n",
       " 1.5000000001208491e-05,\n",
       " 1.5000000001208491e-05,\n",
       " 1.6000000002236447e-05,\n",
       " 1.5000000001208491e-05,\n",
       " 1.5999999998683734e-05,\n",
       " 1.6000000002236447e-05,\n",
       " 2.3999999999801958e-05,\n",
       " 2.5000000000829914e-05,\n",
       " 2.9000000001389026e-05,\n",
       " 2.5000000000829914e-05,\n",
       " 2.6999999999333113e-05,\n",
       " 2.800000000036107e-05,\n",
       " 2.999999999886427e-05,\n",
       " 2.5999999998305157e-05,\n",
       " 2.800000000036107e-05,\n",
       " 2.6999999999333113e-05,\n",
       " 2.9000000001389026e-05,\n",
       " 2.7999999996808356e-05,\n",
       " 3.0000000002416982e-05,\n",
       " 2.999999999886427e-05,\n",
       " 3.399999999942338e-05,\n",
       " 2.6999999999333113e-05,\n",
       " 2.5999999998305157e-05,\n",
       " 2.5000000000829914e-05,\n",
       " 3.0000000002416982e-05,\n",
       " 3.300000000194814e-05,\n",
       " 2.8999999997836312e-05,\n",
       " 2.600000000185787e-05,\n",
       " 2.6999999999333113e-05,\n",
       " 2.999999999886427e-05,\n",
       " 2.9000000001389026e-05,\n",
       " 2.800000000036107e-05,\n",
       " 2.9000000001389026e-05,\n",
       " 2.49999999972772e-05,\n",
       " 2.6999999999333113e-05,\n",
       " 3.200000000092018e-05,\n",
       " 2.8999999997836312e-05,\n",
       " 2.5999999998305157e-05,\n",
       " 2.2999999998774e-05,\n",
       " 2.3999999999801958e-05,\n",
       " 2.3999999999801958e-05,\n",
       " 2.6999999999333113e-05,\n",
       " 2.5000000000829914e-05,\n",
       " 2.5999999998305157e-05,\n",
       " 2.800000000036107e-05,\n",
       " 2.8999999997836312e-05,\n",
       " 2.999999999886427e-05,\n",
       " 2.6999999999333113e-05,\n",
       " 2.6999999999333113e-05,\n",
       " 2.600000000185787e-05,\n",
       " 2.5000000000829914e-05,\n",
       " 2.5000000000829914e-05,\n",
       " 2.7000000002885827e-05,\n",
       " 2.800000000036107e-05,\n",
       " 2.6999999999333113e-05,\n",
       " 2.600000000185787e-05,\n",
       " 2.5999999998305157e-05,\n",
       " 2.800000000036107e-05,\n",
       " 2.800000000036107e-05,\n",
       " 2.8999999997836312e-05,\n",
       " 2.999999999886427e-05,\n",
       " 3.399999999942338e-05,\n",
       " 3.8999999997457735e-05,\n",
       " 3.700000000250725e-05,\n",
       " 3.900000000101045e-05,\n",
       " 3.200000000092018e-05,\n",
       " 2.6999999999333113e-05,\n",
       " 2.800000000036107e-05,\n",
       " 2.6999999999333113e-05,\n",
       " 2.6999999999333113e-05,\n",
       " 2.5999999998305157e-05,\n",
       " 2.5000000000829914e-05,\n",
       " 3.399999999942338e-05,\n",
       " 2.6999999999333113e-05,\n",
       " 1.9999999999242846e-05,\n",
       " 1.9000000001767603e-05,\n",
       " 1.9000000001767603e-05,\n",
       " 2.200000000129876e-05,\n",
       " 1.6000000002236447e-05,\n",
       " 1.6000000002236447e-05,\n",
       " 1.899999999821489e-05,\n",
       " 1.8000000000739647e-05,\n",
       " 1.4999999997655777e-05,\n",
       " 1.8000000000739647e-05,\n",
       " 1.9000000001767603e-05,\n",
       " 1.9999999999242846e-05,\n",
       " 2.1000000000270802e-05,\n",
       " 1.9999999999242846e-05,\n",
       " 1.8000000000739647e-05,\n",
       " 1.5000000001208491e-05,\n",
       " 1.5000000001208491e-05,\n",
       " 1.4999999997655777e-05,\n",
       " 1.5000000001208491e-05,\n",
       " 1.5000000001208491e-05,\n",
       " 1.6000000002236447e-05,\n",
       " 1.4999999997655777e-05,\n",
       " 1.4000000000180535e-05,\n",
       " 1.4000000000180535e-05,\n",
       " 1.5000000001208491e-05,\n",
       " 1.5000000001208491e-05,\n",
       " 1.4000000000180535e-05,\n",
       " 1.4999999997655777e-05,\n",
       " 1.5000000001208491e-05,\n",
       " 1.3999999996627821e-05,\n",
       " 1.4000000000180535e-05,\n",
       " 1.4999999997655777e-05,\n",
       " 1.5000000001208491e-05,\n",
       " 1.4999999997655777e-05,\n",
       " 1.5000000001208491e-05,\n",
       " 1.5000000001208491e-05,\n",
       " 1.6000000002236447e-05,\n",
       " 1.4000000000180535e-05,\n",
       " 1.5000000001208491e-05,\n",
       " 1.4000000000180535e-05,\n",
       " 1.4000000000180535e-05,\n",
       " 1.4000000000180535e-05,\n",
       " 1.5000000001208491e-05]"
      ]
     },
     "execution_count": 20,
     "metadata": {},
     "output_type": "execute_result"
    }
   ],
   "source": [
    "arrayTime"
   ]
  },
  {
   "cell_type": "code",
   "execution_count": 21,
   "metadata": {},
   "outputs": [
    {
     "data": {
      "image/png": "[encoded data removed]",
      "text/plain": [
       "<Figure size 432x288 with 1 Axes>"
      ]
     },
     "metadata": {
      "needs_background": "light"
     },
     "output_type": "display_data"
    }
   ],
   "source": [
    "from pylab import plot, show\n",
    "plot(arrayTime)\n",
    "show() "
   ]
  },
  {
   "cell_type": "markdown",
   "metadata": {},
   "source": [
    "![](TiempoEj.png)"
   ]
  },
  {
   "cell_type": "markdown",
   "metadata": {
    "colab_type": "text",
    "id": "9VLVkLaGbd4j"
   },
   "source": [
    "### 2. Eliminación de Ruido de Señales\n",
    "\n",
    "Una aplicación de la FFT es eliminar el ruido de baja amplitud de las señales. En esta tarea, escribirá un script de Python para simular la eliminación de ruido con la FFT. Los pasos en el script son los siguientes:\n",
    "\n",
    "1. tomar muestras de una señal exacta;\n",
    "2. a la señal muestreada, agregue números pequeños;\n",
    "3. aplique la transformada de Fourier y elimine aquellos componentes que tienen amplitudes bajas; \n",
    "4. aplique la transformada inversa de Fourier después de eliminar componentes de baja amplitud;\n",
    "5. compare el resultado con la señal exacta original.\n",
    "\n",
    "Puedes probar su script en cualquier dato aleatorio. Para un experimento más realista, puede usar el módulo de sonido de `scitools` y comparar la señal original, la ruidosa y la reconstruida escuchando."
   ]
  },
  {
   "cell_type": "markdown",
   "metadata": {},
   "source": [
    "### 1. Tomar muestras de una señal exacta\n",
    "Señal: $7· \\cos(5 · 2\\pi t) + 10 \\sin (8· 2\\pi t)$"
   ]
  },
  {
   "cell_type": "code",
   "execution_count": 22,
   "metadata": {},
   "outputs": [
    {
     "name": "stdout",
     "output_type": "stream",
     "text": [
      "6.999999999999999*cos(5*2*pi*t)\n",
      "10.0*sin(8*2*pi*t)\n"
     ]
    },
    {
     "data": {
      "image/png": "[encoded data removed]",
      "text/plain": [
       "<Figure size 432x288 with 1 Axes>"
      ]
     },
     "metadata": {
      "needs_background": "light"
     },
     "output_type": "display_data"
    },
    {
     "data": {
      "text/plain": [
       "[<matplotlib.lines.Line2D at 0x7fc44160d908>]"
      ]
     },
     "execution_count": 22,
     "metadata": {},
     "output_type": "execute_result"
    },
    {
     "data": {
      "image/png": "[encoded data removed]",
      "text/plain": [
       "<Figure size 432x288 with 1 Axes>"
      ]
     },
     "metadata": {
      "needs_background": "light"
     },
     "output_type": "display_data"
    }
   ],
   "source": [
    "import numpy as np\n",
    "\n",
    "f = lambda t: 7*np.cos(5*2*np.pi*t) + 10*np.sin(8*2*np.pi*t) \n",
    "n = 256\n",
    "x = np.arange(0.0,1.0,1.0/n)\n",
    "s = f(x)\n",
    "F = np.fft.rfft(s)\n",
    "A = np.fft.ifft(F)\n",
    "m = n / 2\n",
    "p = lambda z: (abs(np.real(z)) / m, abs(np.imag(z)) / m)\n",
    "t = p(F)\n",
    "tol = 1.0e-8\n",
    "\n",
    "for i in range(0,len(t[0])):\n",
    "    if t[0][i] > tol:\n",
    "        print(str(t[0][i]) + '*cos(' + str(i) + '*2*pi*t)')\n",
    "    if t[1][i] > tol:\n",
    "        print(str(t[1][i]) + '*sin(' + str(i) + '*2*pi*t)')\n",
    "\n",
    "import matplotlib.pyplot as plt \n",
    "plt.plot(abs(F)/m)\n",
    "plt.show()\n",
    "plt.plot(abs(A)/m)\n"
   ]
  },
  {
   "cell_type": "markdown",
   "metadata": {},
   "source": [
    "### 2. A la señal muestreada, agregue números pequeños"
   ]
  },
  {
   "cell_type": "code",
   "execution_count": 24,
   "metadata": {},
   "outputs": [
    {
     "name": "stdout",
     "output_type": "stream",
     "text": [
      "3.0000000000000004*cos(7*2*pi*t)\n",
      "5.0*sin(10*2*pi*t)\n"
     ]
    },
    {
     "data": {
      "image/png": "[encoded data removed]",
      "text/plain": [
       "<Figure size 432x288 with 1 Axes>"
      ]
     },
     "metadata": {
      "needs_background": "light"
     },
     "output_type": "display_data"
    },
    {
     "data": {
      "image/png": "[encoded data removed]",
      "text/plain": [
       "<Figure size 432x288 with 1 Axes>"
      ]
     },
     "metadata": {
      "needs_background": "light"
     },
     "output_type": "display_data"
    },
    {
     "data": {
      "image/png": "[encoded data removed]",
      "text/plain": [
       "<Figure size 432x288 with 1 Axes>"
      ]
     },
     "metadata": {
      "needs_background": "light"
     },
     "output_type": "display_data"
    },
    {
     "data": {
      "image/png": "[encoded data removed]",
      "text/plain": [
       "<Figure size 432x288 with 1 Axes>"
      ]
     },
     "metadata": {
      "needs_background": "light"
     },
     "output_type": "display_data"
    },
    {
     "data": {
      "text/plain": [
       "[<matplotlib.lines.Line2D at 0x7fc441676a20>]"
      ]
     },
     "execution_count": 24,
     "metadata": {},
     "output_type": "execute_result"
    },
    {
     "data": {
      "image/png": "[encoded data removed]",
      "text/plain": [
       "<Figure size 432x288 with 1 Axes>"
      ]
     },
     "metadata": {
      "needs_background": "light"
     },
     "output_type": "display_data"
    }
   ],
   "source": [
    "import numpy as np\n",
    "import matplotlib.pyplot as plt \n",
    "\n",
    "f = lambda t: 3*np.cos(7*2*np.pi*t) + 5*np.sin(10*2*np.pi*t) \n",
    "n = 256\n",
    "x = np.arange(0.0,1.0,1.0/n)\n",
    "w = np.arange(0.0,0.4,0.4/n)\n",
    "a = x+w\n",
    "s = f(x)\n",
    "b = f(a)\n",
    "F = np.fft.rfft(s)\n",
    "B = np.fft.rfft(b)\n",
    "IF = np.fft.ifft(F)\n",
    "IB = np.fft.ifft(B)\n",
    "m = n / 2\n",
    "p = lambda z: (abs(np.real(z)) / m, abs(np.imag(z)) / m)\n",
    "t = p(F)\n",
    "tol = 1.0e-8\n",
    "\n",
    "for i in range(0,len(t[0])):\n",
    "    if t[0][i] > tol:\n",
    "        print(str(t[0][i]) + '*cos(' + str(i) + '*2*pi*t)')\n",
    "    if t[1][i] > tol:\n",
    "        print(str(t[1][i]) + '*sin(' + str(i) + '*2*pi*t)')\n",
    "\n",
    "\n",
    "plt.plot(abs(F)/m)\n",
    "plt.show()\n",
    "plt.plot(abs(B)/m)\n",
    "plt.show()\n",
    "plt.plot(s)\n",
    "plt.show()\n",
    "plt.plot(b)\n",
    "plt.show()\n",
    "plt.plot(abs(IF))\n",
    "plt.plot(abs(IB))"
   ]
  },
  {
   "cell_type": "markdown",
   "metadata": {},
   "source": [
    "### 3. Aplique la transformada de Fourier y elimine aquellos componentes que tienen amplitudes bajas"
   ]
  },
  {
   "cell_type": "code",
   "execution_count": 25,
   "metadata": {},
   "outputs": [
    {
     "data": {
      "image/png": "[encoded data removed]",
      "text/plain": [
       "<Figure size 432x288 with 1 Axes>"
      ]
     },
     "metadata": {
      "needs_background": "light"
     },
     "output_type": "display_data"
    }
   ],
   "source": [
    "f = lambda t: 7*np.cos(5*2*np.pi*t) + 10*np.sin(8*2*np.pi*t) \n",
    "n = 256\n",
    "x = np.arange(0.0,1.0,1.0/n)\n",
    "w = np.arange(0.0,0.2,0.2/n)\n",
    "s = f(x)\n",
    "a = x+w\n",
    "b = f(a)\n",
    "F = np.fft.rfft(b)\n",
    "m = n / 2\n",
    "p = lambda z: (abs(np.real(z)) / m, abs(np.imag(z)) / m)\n",
    "t = p(F)\n",
    "tol = 1.0e-8\n",
    "\n",
    "for i in range(0,len(t[0])):\n",
    "    if t[0][i] > tol:\n",
    "        (str(t[0][i]) + '*cos(' + str(i) + '*2*pi*t)')\n",
    "    if t[1][i] > tol:\n",
    "        (str(t[1][i]) + '*sin(' + str(i) + '*2*pi*t)')\n",
    "\n",
    "\n",
    "plt.title(\"Señal original de la transformada de fourier\");\n",
    "plt.xlabel('Tiempo')\n",
    "plt.ylabel('Amplitud')\n",
    "plt.grid(True)\n",
    "plt.plot(abs(F)/m)\n",
    "plt.show()"
   ]
  },
  {
   "cell_type": "markdown",
   "metadata": {},
   "source": [
    "### 4. aplique la transformada inversa de Fourier después de eliminar componentes de baja amplitud;"
   ]
  },
  {
   "cell_type": "code",
   "execution_count": 26,
   "metadata": {},
   "outputs": [
    {
     "data": {
      "image/png": "[encoded data removed]",
      "text/plain": [
       "<Figure size 432x288 with 1 Axes>"
      ]
     },
     "metadata": {
      "needs_background": "light"
     },
     "output_type": "display_data"
    },
    {
     "data": {
      "image/png": "[encoded data removed]",
      "text/plain": [
       "<Figure size 432x288 with 1 Axes>"
      ]
     },
     "metadata": {
      "needs_background": "light"
     },
     "output_type": "display_data"
    }
   ],
   "source": [
    "f = lambda t: 7*np.cos(5*2*np.pi*t) + 10*np.sin(8*2*np.pi*t)\n",
    "n = 256\n",
    "x = np.arange(0.0,1.0,1.0/n)\n",
    "w = np.arange(0.0,0.2,0.2/n)\n",
    "s = f(x)\n",
    "a = x+w\n",
    "b = f(a)\n",
    "F = np.fft.rfft(b)\n",
    "A = np.fft.ifft(F)\n",
    "m = n / 2\n",
    "p = lambda z: (abs(np.real(z)) / m, abs(np.imag(z)) / m)\n",
    "t = p(F)\n",
    "tol = 1.0e-8\n",
    "\n",
    "for i in range(0,len(t[0])):\n",
    "    if t[0][i] > tol:\n",
    "        (str(t[0][i]) + '*cos(' + str(i) + '*2*pi*t)')\n",
    "    if t[1][i] > tol:\n",
    "        (str(t[1][i]) + '*sin(' + str(i) + '*2*pi*t)')\n",
    "\n",
    "\n",
    "plt.title(\"Señal original de la transformada de fourier\");\n",
    "plt.xlabel('Tiempo')\n",
    "plt.ylabel('Amplitud')\n",
    "plt.grid(True)\n",
    "plt.plot(abs(F)/m)\n",
    "plt.show()\n",
    "\n",
    "plt.title(\"Señal inversa de la transformada de fourier\");\n",
    "plt.xlabel('Tiempo')\n",
    "plt.ylabel('Amplitud')\n",
    "plt.grid(True)\n",
    "plt.plot(abs(A)/m)\n",
    "plt.show()\n"
   ]
  },
  {
   "cell_type": "markdown",
   "metadata": {},
   "source": [
    "### 5. compare el resultado con la señal exacta original."
   ]
  },
  {
   "cell_type": "code",
   "execution_count": null,
   "metadata": {},
   "outputs": [],
   "source": [
    "import numpy as np\n",
    "\n",
    "f = lambda t: 7*np.cos(5*2*np.pi*t) + 10*np.sin(8*2*np.pi*t) \n",
    "n = 256\n",
    "x = np.arange(0.0,1.0,1.0/n)\n",
    "y = np.arange(0.0,0.2,0.2/n)\n",
    "u = x+y\n",
    "s = f(u)\n",
    "\n",
    "F = np.fft.rfft(s)\n",
    "A = np.fft.ifft(F)\n",
    "\n",
    "m = n / 2\n",
    "p = lambda z: (abs(np.real(z)) / m, abs(np.imag(z)) / m)\n",
    "t = p(F)\n",
    "tol = 1.0e-8\n",
    "\n",
    "for i in range(0,len(t[0])):\n",
    "    if t[0][i] > tol:\n",
    "        (str(t[0][i]) + '*cos(' + str(i) + '*2*pi*t)')\n",
    "    if t[1][i] > tol:\n",
    "        (str(t[1][i]) + '*sin(' + str(i) + '*2*pi*t)')\n",
    "\n",
    "        \n",
    "        \n",
    "        \n",
    "plt.title(\"Señal original de la transformada de fourier\");\n",
    "plt.xlabel('Tiempo')\n",
    "plt.ylabel('Amplitud')\n",
    "plt.grid(True)\n",
    "plt.plot(abs(F)/m)\n",
    "plt.show()\n",
    "\n",
    "plt.title(\"Señal inversa de la transformada de fourier\");\n",
    "plt.xlabel('Tiempo')\n",
    "plt.ylabel('Amplitud')\n",
    "plt.grid(True)\n",
    "plt.plot(abs(A)/m)\n",
    "plt.show()"
   ]
  },
  {
   "cell_type": "markdown",
   "metadata": {
    "colab_type": "text",
    "id": "CRe5hm3Mbd4l"
   },
   "source": [
    "### 3. Convolución rápida\n",
    "\n",
    "La transformada de Fourier convierte una convolución en un producto de componente. Interpretando las matrices como los vectores de coeficientes de dos polinomios (la entrada i-ésima es el coeficiente de xi), la convolución de los vectores de coeficientes da el vector de coeficientes del producto de los dos polinomios. Usando el FFT rápido, la operación $O(n^2)$ se convierte en $O(n · log2 (n))$. El siguiente script ilustra la convolución de dos matrices rellenadas con ceros suficientes:"
   ]
  },
  {
   "cell_type": "markdown",
   "metadata": {
    "colab_type": "text",
    "id": "hm-iL6WUbd41"
   },
   "source": [
    "Escriba un script de Python para demostrar el beneficio de realizar una convolución usando la FFT, usando tiempos en arreglos suficientemente grandes. Tenga en cuenta que el paquete de señal de scipy contiene la función `fftconvolve`."
   ]
  },
  {
   "cell_type": "code",
   "execution_count": 31,
   "metadata": {
    "colab": {},
    "colab_type": "code",
    "id": "TCNj_9ynbd4q"
   },
   "outputs": [
    {
     "name": "stdout",
     "output_type": "stream",
     "text": [
      "[ 54  93 118  67  28   0   0   0   0   0   0   0   0   0   0]\n",
      "[ 5.40000000e+01  9.30000000e+01  1.18000000e+02  6.70000000e+01\n",
      "  2.80000000e+01 -7.10542736e-15  0.00000000e+00 -7.10542736e-15]\n"
     ]
    }
   ],
   "source": [
    "import numpy as np\n",
    "from numpy.fft import rfft, irfft \n",
    "\n",
    "a = np.array([6,5,4,0,0,0,0,0]) \n",
    "b = np.array([9,8,7,0,0,0,0,0]) \n",
    "print(np.convolve(a,b))\n",
    "\n",
    "A = rfft(a)\n",
    "B = rfft(b)\n",
    "C = A * B\n",
    "print(irfft(C))"
   ]
  },
  {
   "cell_type": "code",
   "execution_count": 32,
   "metadata": {},
   "outputs": [
    {
     "name": "stdout",
     "output_type": "stream",
     "text": [
      "22.4 ns ± 0.554 ns per loop (mean ± std. dev. of 7 runs, 10000000 loops each)\n",
      "22.9 ns ± 0.893 ns per loop (mean ± std. dev. of 7 runs, 10000000 loops each)\n",
      "23.2 ns ± 0.485 ns per loop (mean ± std. dev. of 7 runs, 10000000 loops each)\n",
      "6.67 µs ± 542 ns per loop (mean ± std. dev. of 7 runs, 100000 loops each)\n"
     ]
    }
   ],
   "source": [
    "%timeit A\n",
    "%timeit B\n",
    "%timeit C\n",
    "%timeit irfft(C)"
   ]
  },
  {
   "cell_type": "code",
   "execution_count": 34,
   "metadata": {},
   "outputs": [
    {
     "name": "stdout",
     "output_type": "stream",
     "text": [
      "[ 54  93 118  67  28   0   0   0   0   0   0   0   0   0   0]\n"
     ]
    }
   ],
   "source": [
    "import scipy\n",
    "from scipy import signal\n",
    "\n",
    "a = np.array([6,5,4,0,0,0,0,0]) \n",
    "b = np.array([9,8,7,0,0,0,0,0]) \n",
    "z=scipy.signal.convolve(a, b, mode='full')\n",
    "\n",
    "print(z)\n"
   ]
  },
  {
   "cell_type": "code",
   "execution_count": 35,
   "metadata": {},
   "outputs": [
    {
     "name": "stdout",
     "output_type": "stream",
     "text": [
      "26.9 ns ± 2.14 ns per loop (mean ± std. dev. of 7 runs, 10000000 loops each)\n"
     ]
    }
   ],
   "source": [
    "%timeit z"
   ]
  },
  {
   "cell_type": "markdown",
   "metadata": {},
   "source": [
    "#### La convolución rápida de FFT a través de los algoritmos de superposición de adición o guardado de superposición se puede hacer en memoria limitada utilizando una FFT que es solo un pequeño múltiplo (como 2X) más grande que la respuesta al impulso. Rompe la FFT larga en FFT más cortas, pero con relleno cero, correctamente superpuestas.\n",
    "#### Incluso con la superposición de gastos generales, O (NlogN) vencerá a M * N en eficiencia para N y M. suficientemente grandes"
   ]
  },
  {
   "cell_type": "markdown",
   "metadata": {},
   "source": [
    "## Beneficios del uso de la convolución\n",
    "Para la solucion que se plantea a continuación, se convolucionan usando la librería numpy dos arreglos lo suficientemente grandes como para poder ver un cambio significativo en los tiempos.\n",
    "Se obtienen también la transformada de ambos arreglos, se multiplican y se aplica la transformada inversa, buscando obtener el mismo resultado que con la función que implementa la librería de numpy"
   ]
  },
  {
   "cell_type": "code",
   "execution_count": 28,
   "metadata": {},
   "outputs": [
    {
     "name": "stdout",
     "output_type": "stream",
     "text": [
      "[  20   10   60   45   41  165   92  139  171  175  181  147  281  305\n",
      "  145  381  417  323  411  527  475  511  581  596  592  598  635  615\n",
      "  701  726  681  746  836  697  815  794  987  945  987  938 1005 1034\n",
      "  920 1154 1099  982 1139 1342 1103 1261 1340 1278 1467 1403 1518 1478\n",
      " 1232 1526 1534 1611 1597 1667 1666 1689 1731 1820 1611 1779 1752 1651\n",
      " 1842 1846 1815 1929 2110 2086 1996 1964 2137 1920 2042 2065 2131 2147\n",
      " 2158 2470 2377 2106 2529 2336 2215 2535 2294 2308 2632 2596 2722 2661\n",
      " 2412 2726 2632 2795 2658 2776 2592 2753 2926 2897 2920 2925 2899 2814\n",
      " 2906 3054 3069 2863 3227 3361 3090 3307 3366 3199 3218 3148 3363 3264\n",
      " 3130 3368 3543 3555 3523 3656 3644 3669 3398 3416 3577 3465 3755 3779\n",
      " 3898 3939 3866 4152 3970 3748 4019 3938 3819 4033 4055 4416 4297 4466\n",
      " 4388 4595 4152 4186 4411 4385 4242 4490 4548 4548 4728 4482 4728 4612\n",
      " 4282 4682 4595 4612 4767 4688 4769 4849 5009 4713 5020 4956 5174 4870\n",
      " 5113 5190 5040 5155 4983 4830 5178 5081 5225 5147 5080 5240 5012 5686\n",
      " 5392 5680 5467 5269 5210 5498 5420 5223 5406 5176 5424 5540 5540 5883\n",
      " 5553 5913 5657 5612 5755 5479 5859 5833 6051 6095 6033 5994 6217 5861\n",
      " 6043 5834 5758 6303 6296 6183 6088 6306 6460 6068 6171 6466 6322 6188\n",
      " 6155 6365 6281 6669 6339 6261 6288 6514 6412 6576 6767 6292 6550 7043\n",
      " 6268 6669 6935 6831 6720 6765 6879 6837 7137 6613 6940 6829 6900 6922\n",
      " 7152 6952 6910 7109 7126 7058 7250 6894 7438 7118 7366 7513 7412 7441\n",
      " 7284 7658 7257 7200 7562 7446 7231 7588 7637 7229 7974 7848 7570 7755\n",
      " 7802 7590 7676 7809 7631 7826 7953 7714 7931 7706 7784 7526 7317 7405\n",
      " 7370 7470 7443 7581 7524 7616 7227 7154 7351 7203 7392 7404 6970 7301\n",
      " 6950 7127 7180 6607 7126 6763 7240 6984 7085 6856 7108 6938 6978 7156\n",
      " 6769 6910 6728 6714 6687 6621 6398 6816 6648 6160 6552 6480 6564 6522\n",
      " 6388 6073 6402 6271 6409 6566 6630 6433 6182 6052 6363 5987 5865 5934\n",
      " 5563 5800 6109 6032 6107 6036 5868 5823 5895 5871 5776 5633 5420 5887\n",
      " 5843 5884 5721 5587 5527 5427 5373 5322 5464 5594 5201 5348 5322 5461\n",
      " 5091 5095 4986 5168 5431 5085 5006 5108 5372 4811 5173 5148 4790 5010\n",
      " 4624 5016 4700 4750 4607 4748 4724 4519 4765 4408 4523 4389 4644 4671\n",
      " 4432 4579 4441 4666 4476 4282 4538 4428 4175 4221 4434 4263 4033 4119\n",
      " 3926 3915 4173 3925 4092 3916 3923 3589 3715 3753 3857 3626 3623 3847\n",
      " 3591 3609 3621 3542 3353 3465 3441 3583 3394 3449 3344 3215 3301 3274\n",
      " 3041 3208 3034 3207 3100 3361 3180 3101 3161 3016 3036 2931 3048 3037\n",
      " 3092 3020 2730 2864 2758 2711 2579 2570 2726 2524 2868 2623 2660 2494\n",
      " 2517 2560 2643 2568 2531 2552 2478 2545 2381 2432 2214 2105 2025 2325\n",
      " 2191 2177 2274 2151 2139 1914 2098 1921 1874 1927 2014 1989 2014 1947\n",
      " 1778 1673 1600 1654 1762 1794 1620 1733 1731 1608 1638 1566 1549 1572\n",
      " 1523 1619 1612 1487 1370 1433 1371 1350 1364 1218 1495 1381 1204 1305\n",
      " 1147 1152 1183 1210 1138 1226 1096 1127  999  908  936  821  816  982\n",
      "  902  860  865  782  695  741  645  719  818  701  752  617  664  558\n",
      "  543  490  581  408  441  441  388  381  310  299  340  280  189  200\n",
      "  184  110  100  137  135  112   38   64   24]\n",
      "[7877.84441522 7983.36013972 7806.43665833 7996.87155179 7777.43171043\n",
      " 7972.51711848 7637.61052726 7481.14098351 7604.03379637 7569.60683653\n",
      " 7679.48188918 7615.40564409 7901.55108192 7843.35822041 7790.57570804\n",
      " 7617.39680726 7610.59773062 7690.77693743 7651.87036756 7961.25874162\n",
      " 7877.66482372 7506.87897657 7930.67500211 7525.78915233 7809.46779944\n",
      " 7725.63089646 7306.21675541 7755.25651913 7510.08190785 8007.56901864\n",
      " 7665.01740737 7882.17110833 7689.03269987 7868.20981039 7734.40342654\n",
      " 7868.65208687 8135.88848396 7727.27760076 7935.15399705 7653.57343397\n",
      " 7782.06152276 7706.34106802 7565.44412309 7598.36806892 7988.6456168\n",
      " 7524.05988035 7422.97950409 7910.36211118 7598.20153162 7895.68005123\n",
      " 7863.01480934 7645.43327387 7604.11310398 7842.76218718 7831.76132783\n",
      " 7894.82172426 7868.93042348 8204.06132878 7936.85995135 7783.38260192\n",
      " 7717.87728363 8074.50392578 7563.06721968 7655.14489804 7625.7946449\n",
      " 7380.63161854 7514.97254593 7977.10989902 7730.80248661 7861.32536495\n",
      " 7850.20195975 7734.48721951 7650.05978858 7952.41255671 7949.81825712\n",
      " 7899.15316054 7492.85627064 7580.18422833 8047.53351307 7770.06010528\n",
      " 7980.524978   7745.33323763 7764.01156803 7647.91492334 7659.87481823\n",
      " 7911.467722   7590.38494113 7782.45863456 8078.67643773 7430.44439776\n",
      " 7730.3237034  7882.72753089 7668.29896345 7446.66343063 7819.08126248\n",
      " 7543.50611628 8165.92225222 7849.84182039 7593.8160823  7722.49819329\n",
      " 7956.32256401 8022.32024292 7480.69883644 8130.37364776 7493.22591376\n",
      " 7830.40754485 7770.62809373 7672.44008811 7926.31498915 7591.99197786\n",
      " 7651.00022357 7417.44929575 7843.44329203 7674.03945884 7663.97403212\n",
      " 7594.25003075 7815.98626173 7763.0431157  7563.76033823 8183.89468666\n",
      " 7821.07587778 7735.78686809 7734.43785887 7731.84393975 8104.41607935\n",
      " 7478.32757175 7646.79875133 8016.63717172 7919.53835135 7674.23907189\n",
      " 7958.70136653 8082.89442802 7828.0390559  7648.02106085 7452.89120974\n",
      " 7377.03999497 7641.60764864 7632.07664512 7842.48090809 7839.78675654\n",
      " 7925.43242045 7661.25063895 7610.8927619  7945.66686443 7600.07169611\n",
      " 7700.58854821 7597.14664686 7639.6095038  7696.22167719 7611.34154715\n",
      " 7899.2388515  8023.77214368 7794.42300676 7881.75853079 7953.92015449\n",
      " 8006.47738678 7553.48418676 7798.4896935  7848.092629   7599.17248109\n",
      " 7560.38496297 7998.27225439 7577.497239   7900.30146034 7700.86914971\n",
      " 7721.60595931 7955.66987593 7578.27582259 7856.59231327 7789.87480169\n",
      " 7738.19719225 7838.50093021 7756.26818811 7746.61511141 7776.04884341\n",
      " 8113.85935579 7858.64232188 8019.78513433 7836.80896442 7894.93250895\n",
      " 7911.10047184 7620.57664396 7990.79262306 7532.1596557  7926.17853331\n",
      " 7624.13305978 7633.68484681 7798.71870707 7823.9225036  7704.15350481\n",
      " 7778.34468782 7566.89400141 7935.45344583 7617.03956895 8036.54152745\n",
      " 8133.79148597 8021.28347913 8218.47304786 7713.92527824 7686.83609832\n",
      " 7683.44999967 7702.79203215 7244.39021318 7642.62828285 7558.11213306\n",
      " 7426.86847545 7908.5309326  7640.0133387  8060.70809736 7602.78975366\n",
      " 7841.2437588  7864.5524469  7371.74068353 7776.43857904 7476.32600085\n",
      " 7817.77611108 7855.34912768 8009.31035785 7934.37753401 7800.74975156\n",
      " 7583.33793137 7871.36117985 7699.75467549 7802.44697462 7636.40396397\n",
      " 7378.51638151 8002.3950548  7970.73102236 7872.0891986  7706.29815321\n",
      " 7796.07981118 8083.29321737 7709.82398215 7696.84897909 8115.98650915\n",
      " 7890.03937354 7639.42032818 7552.86869793 7792.08511971 7610.64588992\n",
      " 8040.04655528 7671.9723301  7704.19548993 7757.37122569 7687.6025579\n",
      " 7791.22780055 7690.31722707 7973.19046157 7559.06223958 7672.56660881\n",
      " 8226.24662334 7621.80224175 7672.0529793  8118.70000584 7870.85081401\n",
      " 7697.27565799 7673.16232701 7785.08349005 7602.19503091 8167.72838238\n",
      " 7583.74050236 7783.17328749 7748.39632176 7704.45318513 7637.41370309\n",
      " 7898.5116617  7671.82242803 7612.05094661 7946.42788508 7868.13986317\n",
      " 7822.39028571 7913.37885128 7584.24085359 7992.12817478 7733.20492994\n",
      " 7824.32867505 8149.25133694 7839.13410658 7923.68226571 7738.22076986\n",
      " 8069.89280136 7694.2177623  7521.45926226 7874.72613762 7827.76164403\n",
      " 7538.51905057 7786.19305042 7878.77754856 7436.26846899 8089.40735613\n",
      " 7993.84765507 7725.64375524 7918.19232541 7938.40338211 7661.46412454\n",
      " 7757.71291892 7865.77617682 7651.3703192 ]\n"
     ]
    }
   ],
   "source": [
    "from numpy.fft import rfft, irfft\n",
    "from random import randint\n",
    "\n",
    "array1 = []\n",
    "array2 = []\n",
    "\n",
    "for _ in range(1, 300):\n",
    "    array1.append(randint(0, 10))\n",
    "    array2.append(randint(0, 10))\n",
    "\n",
    "print(np.convolve(array1,array2))\n",
    "A = rfft(array1)\n",
    "B = rfft(array2)\n",
    "C = A * B\n",
    "print(irfft(C))\n"
   ]
  },
  {
   "cell_type": "code",
   "execution_count": 29,
   "metadata": {},
   "outputs": [
    {
     "name": "stdout",
     "output_type": "stream",
     "text": [
      "37.8 µs ± 2.03 µs per loop (mean ± std. dev. of 7 runs, 10000 loops each)\n",
      "7.42 µs ± 754 ns per loop (mean ± std. dev. of 7 runs, 100000 loops each)\n",
      "7.55 µs ± 453 ns per loop (mean ± std. dev. of 7 runs, 100000 loops each)\n",
      "1.38 µs ± 50.8 ns per loop (mean ± std. dev. of 7 runs, 1000000 loops each)\n",
      "40.1 µs ± 1.41 µs per loop (mean ± std. dev. of 7 runs, 10000 loops each)\n"
     ]
    }
   ],
   "source": [
    "%timeit np.convolve(a,b)\n",
    "%timeit rfft(a)\n",
    "%timeit rfft(b)\n",
    "%timeit A*B\n",
    "%timeit irfft(C)"
   ]
  },
  {
   "cell_type": "markdown",
   "metadata": {},
   "source": [
    "### Conclusión 1\n",
    "\n",
    "Efectivamente se puede comprobar que los métodos implementados por la librería son mucho más eficientes en términos de CPU, que los procedimientos que se implementan de manera manual. Los números lo demuestran: con np.convolve se obtuvo un tiempo promedio por ciclo de 37.8 us aproximadamente, mientras que con el procedimiento manual, se obtuvo un total aproximado de 56.45 us\n"
   ]
  },
  {
   "cell_type": "markdown",
   "metadata": {},
   "source": [
    "### Usando Scipy\n",
    "Se realiza el mismo procedimiento, usando la convolucion con FFT del módulo scipy, concretamente los métodos de convolve y fftconvolve . Se espera que este método sea mucho mas rapido que e lanterior (np.convolve). \n"
   ]
  },
  {
   "cell_type": "code",
   "execution_count": 36,
   "metadata": {},
   "outputs": [
    {
     "name": "stdout",
     "output_type": "stream",
     "text": [
      "[  20   10   60   45   41  165   92  139  171  175  181  147  281  305\n",
      "  145  381  417  323  411  527  475  511  581  596  592  598  635  615\n",
      "  701  726  681  746  836  697  815  794  987  945  987  938 1005 1034\n",
      "  920 1154 1099  982 1139 1342 1103 1261 1340 1278 1467 1403 1518 1478\n",
      " 1232 1526 1534 1611 1597 1667 1666 1689 1731 1820 1611 1779 1752 1651\n",
      " 1842 1846 1815 1929 2110 2086 1996 1964 2137 1920 2042 2065 2131 2147\n",
      " 2158 2470 2377 2106 2529 2336 2215 2535 2294 2308 2632 2596 2722 2661\n",
      " 2412 2726 2632 2795 2658 2776 2592 2753 2926 2897 2920 2925 2899 2814\n",
      " 2906 3054 3069 2863 3227 3361 3090 3307 3366 3199 3218 3148 3363 3264\n",
      " 3130 3368 3543 3555 3523 3656 3644 3669 3398 3416 3577 3465 3755 3779\n",
      " 3898 3939 3866 4152 3970 3748 4019 3938 3819 4033 4055 4416 4297 4466\n",
      " 4388 4595 4152 4186 4411 4385 4242 4490 4548 4548 4728 4482 4728 4612\n",
      " 4282 4682 4595 4612 4767 4688 4769 4849 5009 4713 5020 4956 5174 4870\n",
      " 5113 5190 5040 5155 4983 4830 5178 5081 5225 5147 5080 5240 5012 5686\n",
      " 5392 5680 5467 5269 5210 5498 5420 5223 5406 5176 5424 5540 5540 5883\n",
      " 5553 5913 5657 5612 5755 5479 5859 5833 6051 6095 6033 5994 6217 5861\n",
      " 6043 5834 5758 6303 6296 6183 6088 6306 6460 6068 6171 6466 6322 6188\n",
      " 6155 6365 6281 6669 6339 6261 6288 6514 6412 6576 6767 6292 6550 7043\n",
      " 6268 6669 6935 6831 6720 6765 6879 6837 7137 6613 6940 6829 6900 6922\n",
      " 7152 6952 6910 7109 7126 7058 7250 6894 7438 7118 7366 7513 7412 7441\n",
      " 7284 7658 7257 7200 7562 7446 7231 7588 7637 7229 7974 7848 7570 7755\n",
      " 7802 7590 7676 7809 7631 7826 7953 7714 7931 7706 7784 7526 7317 7405\n",
      " 7370 7470 7443 7581 7524 7616 7227 7154 7351 7203 7392 7404 6970 7301\n",
      " 6950 7127 7180 6607 7126 6763 7240 6984 7085 6856 7108 6938 6978 7156\n",
      " 6769 6910 6728 6714 6687 6621 6398 6816 6648 6160 6552 6480 6564 6522\n",
      " 6388 6073 6402 6271 6409 6566 6630 6433 6182 6052 6363 5987 5865 5934\n",
      " 5563 5800 6109 6032 6107 6036 5868 5823 5895 5871 5776 5633 5420 5887\n",
      " 5843 5884 5721 5587 5527 5427 5373 5322 5464 5594 5201 5348 5322 5461\n",
      " 5091 5095 4986 5168 5431 5085 5006 5108 5372 4811 5173 5148 4790 5010\n",
      " 4624 5016 4700 4750 4607 4748 4724 4519 4765 4408 4523 4389 4644 4671\n",
      " 4432 4579 4441 4666 4476 4282 4538 4428 4175 4221 4434 4263 4033 4119\n",
      " 3926 3915 4173 3925 4092 3916 3923 3589 3715 3753 3857 3626 3623 3847\n",
      " 3591 3609 3621 3542 3353 3465 3441 3583 3394 3449 3344 3215 3301 3274\n",
      " 3041 3208 3034 3207 3100 3361 3180 3101 3161 3016 3036 2931 3048 3037\n",
      " 3092 3020 2730 2864 2758 2711 2579 2570 2726 2524 2868 2623 2660 2494\n",
      " 2517 2560 2643 2568 2531 2552 2478 2545 2381 2432 2214 2105 2025 2325\n",
      " 2191 2177 2274 2151 2139 1914 2098 1921 1874 1927 2014 1989 2014 1947\n",
      " 1778 1673 1600 1654 1762 1794 1620 1733 1731 1608 1638 1566 1549 1572\n",
      " 1523 1619 1612 1487 1370 1433 1371 1350 1364 1218 1495 1381 1204 1305\n",
      " 1147 1152 1183 1210 1138 1226 1096 1127  999  908  936  821  816  982\n",
      "  902  860  865  782  695  741  645  719  818  701  752  617  664  558\n",
      "  543  490  581  408  441  441  388  381  310  299  340  280  189  200\n",
      "  184  110  100  137  135  112   38   64   24]\n",
      "[  20.   10.   60.   45.   41.  165.   92.  139.  171.  175.  181.  147.\n",
      "  281.  305.  145.  381.  417.  323.  411.  527.  475.  511.  581.  596.\n",
      "  592.  598.  635.  615.  701.  726.  681.  746.  836.  697.  815.  794.\n",
      "  987.  945.  987.  938. 1005. 1034.  920. 1154. 1099.  982. 1139. 1342.\n",
      " 1103. 1261. 1340. 1278. 1467. 1403. 1518. 1478. 1232. 1526. 1534. 1611.\n",
      " 1597. 1667. 1666. 1689. 1731. 1820. 1611. 1779. 1752. 1651. 1842. 1846.\n",
      " 1815. 1929. 2110. 2086. 1996. 1964. 2137. 1920. 2042. 2065. 2131. 2147.\n",
      " 2158. 2470. 2377. 2106. 2529. 2336. 2215. 2535. 2294. 2308. 2632. 2596.\n",
      " 2722. 2661. 2412. 2726. 2632. 2795. 2658. 2776. 2592. 2753. 2926. 2897.\n",
      " 2920. 2925. 2899. 2814. 2906. 3054. 3069. 2863. 3227. 3361. 3090. 3307.\n",
      " 3366. 3199. 3218. 3148. 3363. 3264. 3130. 3368. 3543. 3555. 3523. 3656.\n",
      " 3644. 3669. 3398. 3416. 3577. 3465. 3755. 3779. 3898. 3939. 3866. 4152.\n",
      " 3970. 3748. 4019. 3938. 3819. 4033. 4055. 4416. 4297. 4466. 4388. 4595.\n",
      " 4152. 4186. 4411. 4385. 4242. 4490. 4548. 4548. 4728. 4482. 4728. 4612.\n",
      " 4282. 4682. 4595. 4612. 4767. 4688. 4769. 4849. 5009. 4713. 5020. 4956.\n",
      " 5174. 4870. 5113. 5190. 5040. 5155. 4983. 4830. 5178. 5081. 5225. 5147.\n",
      " 5080. 5240. 5012. 5686. 5392. 5680. 5467. 5269. 5210. 5498. 5420. 5223.\n",
      " 5406. 5176. 5424. 5540. 5540. 5883. 5553. 5913. 5657. 5612. 5755. 5479.\n",
      " 5859. 5833. 6051. 6095. 6033. 5994. 6217. 5861. 6043. 5834. 5758. 6303.\n",
      " 6296. 6183. 6088. 6306. 6460. 6068. 6171. 6466. 6322. 6188. 6155. 6365.\n",
      " 6281. 6669. 6339. 6261. 6288. 6514. 6412. 6576. 6767. 6292. 6550. 7043.\n",
      " 6268. 6669. 6935. 6831. 6720. 6765. 6879. 6837. 7137. 6613. 6940. 6829.\n",
      " 6900. 6922. 7152. 6952. 6910. 7109. 7126. 7058. 7250. 6894. 7438. 7118.\n",
      " 7366. 7513. 7412. 7441. 7284. 7658. 7257. 7200. 7562. 7446. 7231. 7588.\n",
      " 7637. 7229. 7974. 7848. 7570. 7755. 7802. 7590. 7676. 7809. 7631. 7826.\n",
      " 7953. 7714. 7931. 7706. 7784. 7526. 7317. 7405. 7370. 7470. 7443. 7581.\n",
      " 7524. 7616. 7227. 7154. 7351. 7203. 7392. 7404. 6970. 7301. 6950. 7127.\n",
      " 7180. 6607. 7126. 6763. 7240. 6984. 7085. 6856. 7108. 6938. 6978. 7156.\n",
      " 6769. 6910. 6728. 6714. 6687. 6621. 6398. 6816. 6648. 6160. 6552. 6480.\n",
      " 6564. 6522. 6388. 6073. 6402. 6271. 6409. 6566. 6630. 6433. 6182. 6052.\n",
      " 6363. 5987. 5865. 5934. 5563. 5800. 6109. 6032. 6107. 6036. 5868. 5823.\n",
      " 5895. 5871. 5776. 5633. 5420. 5887. 5843. 5884. 5721. 5587. 5527. 5427.\n",
      " 5373. 5322. 5464. 5594. 5201. 5348. 5322. 5461. 5091. 5095. 4986. 5168.\n",
      " 5431. 5085. 5006. 5108. 5372. 4811. 5173. 5148. 4790. 5010. 4624. 5016.\n",
      " 4700. 4750. 4607. 4748. 4724. 4519. 4765. 4408. 4523. 4389. 4644. 4671.\n",
      " 4432. 4579. 4441. 4666. 4476. 4282. 4538. 4428. 4175. 4221. 4434. 4263.\n",
      " 4033. 4119. 3926. 3915. 4173. 3925. 4092. 3916. 3923. 3589. 3715. 3753.\n",
      " 3857. 3626. 3623. 3847. 3591. 3609. 3621. 3542. 3353. 3465. 3441. 3583.\n",
      " 3394. 3449. 3344. 3215. 3301. 3274. 3041. 3208. 3034. 3207. 3100. 3361.\n",
      " 3180. 3101. 3161. 3016. 3036. 2931. 3048. 3037. 3092. 3020. 2730. 2864.\n",
      " 2758. 2711. 2579. 2570. 2726. 2524. 2868. 2623. 2660. 2494. 2517. 2560.\n",
      " 2643. 2568. 2531. 2552. 2478. 2545. 2381. 2432. 2214. 2105. 2025. 2325.\n",
      " 2191. 2177. 2274. 2151. 2139. 1914. 2098. 1921. 1874. 1927. 2014. 1989.\n",
      " 2014. 1947. 1778. 1673. 1600. 1654. 1762. 1794. 1620. 1733. 1731. 1608.\n",
      " 1638. 1566. 1549. 1572. 1523. 1619. 1612. 1487. 1370. 1433. 1371. 1350.\n",
      " 1364. 1218. 1495. 1381. 1204. 1305. 1147. 1152. 1183. 1210. 1138. 1226.\n",
      " 1096. 1127.  999.  908.  936.  821.  816.  982.  902.  860.  865.  782.\n",
      "  695.  741.  645.  719.  818.  701.  752.  617.  664.  558.  543.  490.\n",
      "  581.  408.  441.  441.  388.  381.  310.  299.  340.  280.  189.  200.\n",
      "  184.  110.  100.  137.  135.  112.   38.   64.   24.]\n"
     ]
    }
   ],
   "source": [
    "from scipy import signal\n",
    "# array1 y array2 están definidos con anterioridad\n",
    "arrayConvolve=scipy.signal.convolve(array1, array2, mode='full',method='direct')\n",
    "arrayFFTConvolve=scipy.signal.fftconvolve(array1, array2, mode='full')\n",
    "print(arrayConvolve)\n",
    "print(arrayFFTConvolve)"
   ]
  },
  {
   "cell_type": "code",
   "execution_count": 37,
   "metadata": {},
   "outputs": [
    {
     "name": "stdout",
     "output_type": "stream",
     "text": [
      "28.6 ns ± 1.7 ns per loop (mean ± std. dev. of 7 runs, 10000000 loops each)\n",
      "25.3 ns ± 2.1 ns per loop (mean ± std. dev. of 7 runs, 10000000 loops each)\n"
     ]
    }
   ],
   "source": [
    "%timeit arrayConvolve\n",
    "%timeit arrayFFTConvolve"
   ]
  },
  {
   "cell_type": "markdown",
   "metadata": {},
   "source": [
    "### Conclusión 2\n",
    "Se observa que, como se esperaba, las funciones propias del módulo scipy, son mucho más eficientes ala hora de  hacer cálculos con gran cantidad de datos."
   ]
  },
  {
   "cell_type": "markdown",
   "metadata": {
    "colab_type": "text",
    "id": "xj61QSCobd47"
   },
   "source": [
    "## Referencia\n",
    "\n",
    "[1] P.N. Swarztrauber. Vectorizing the FFTs. In Parallel Computations, edited by G. Rodrigue, pages 51–83, Academic Press, 1982.\n",
    "[2]NUMERICAL RECIPES The Art of Scientific Computing Third Edition\n",
    "\n",
    "[3] How to apply a FIR filter: convolve, fftconvolve, convolve1d or lfilter? - Scipy CookBook"
   ]
  },
  {
   "cell_type": "code",
   "execution_count": null,
   "metadata": {
    "colab": {},
    "colab_type": "code",
    "id": "LXDREqr8bd4-"
   },
   "outputs": [],
   "source": []
  }
 ],
 "metadata": {
  "colab": {
   "name": "Taller.ipynb",
   "provenance": []
  },
  "kernelspec": {
   "display_name": "Python 3",
   "language": "python",
   "name": "python3"
  },
  "language_info": {
   "codemirror_mode": {
    "name": "ipython",
    "version": 3
   },
   "file_extension": ".py",
   "mimetype": "text/x-python",
   "name": "python",
   "nbconvert_exporter": "python",
   "pygments_lexer": "ipython3",
   "version": "3.7.3"
  }
 },
 "nbformat": 4,
 "nbformat_minor": 1
}
